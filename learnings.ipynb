{
 "cells": [
  {
   "cell_type": "code",
   "execution_count": 2,
   "metadata": {},
   "outputs": [],
   "source": [
    "import pandas as pd\n",
    "import numpy as np"
   ]
  },
  {
   "cell_type": "code",
   "execution_count": null,
   "metadata": {},
   "outputs": [],
   "source": [
    "#regrouping data to make manipulation easier\n",
    "open_prices = price_df.pivot(index='date', columns='ticker', values='open')\n",
    "#resampling data\n",
    "close.resample('3D')\n",
    "close.resample('3D').first()\n",
    "\n",
    "#shift days to calculate returns\n",
    "close.shift(1) #shift to past. use negative numbers to shift to future\n",
    "(close - close.shift(1)) / close.shift(1)\n",
    "\n",
    "#calculate position\n",
    "signal_one = prices > 2\n",
    "signal_three = prices > 4\n",
    "signal_one = signal_one.astype(np.int)\n",
    "signal_three = signal_three.astype(np.int)\n",
    "pos_one = 1 * signal_one\n",
    "pos_three = 3 * signal_three\n",
    "long_pos = pos_one + pos_three\n",
    "\n",
    "\n",
    "#top and bottom performing\n",
    "close_month.loc[month].nlargest(2)\n",
    "(-1 * close_month).loc[month].nlargest(2) *-1\n",
    "top_prices = prices.loc[date].nlargest(top_n)\n",
    "top_industries = sector.loc[top_prices.index]\n",
    "set(top_industries)\n"
   ]
  },
  {
   "cell_type": "code",
   "execution_count": 1,
   "metadata": {},
   "outputs": [],
   "source": [
    "import glob"
   ]
  },
  {
   "cell_type": "code",
   "execution_count": null,
   "metadata": {},
   "outputs": [],
   "source": []
  }
 ],
 "metadata": {
  "kernelspec": {
   "display_name": "momentumtrading",
   "language": "python",
   "name": "momentumtrading"
  },
  "language_info": {
   "codemirror_mode": {
    "name": "ipython",
    "version": 3
   },
   "file_extension": ".py",
   "mimetype": "text/x-python",
   "name": "python",
   "nbconvert_exporter": "python",
   "pygments_lexer": "ipython3",
   "version": "3.6.10"
  }
 },
 "nbformat": 4,
 "nbformat_minor": 2
}
