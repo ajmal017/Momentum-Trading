{
 "cells": [
  {
   "cell_type": "code",
   "execution_count": 17,
   "metadata": {},
   "outputs": [],
   "source": [
    "import pandas as pd\n",
    "import numpy as np\n",
    "import glob\n",
    "import os\n",
    "from scipy import stats"
   ]
  },
  {
   "cell_type": "markdown",
   "metadata": {},
   "source": [
    "# Momentum strategy 1: Selecting top and bottom performing stocks for long and short positions in the portfolio based on month-end observations."
   ]
  },
  {
   "cell_type": "markdown",
   "metadata": {},
   "source": [
    "### Read ticker data downloaded from quantquote"
   ]
  },
  {
   "cell_type": "code",
   "execution_count": 18,
   "metadata": {},
   "outputs": [
    {
     "name": "stdout",
     "output_type": "stream",
     "text": [
      "        date  0     open     high      low    close        volume ticker\n",
      "0 1998-01-02  0  23.5573  23.6455  23.2714  23.5573  7.108452e+06     ko\n",
      "1 1998-01-05  0  23.5784  23.6031  23.0279  23.4479  1.004965e+07     ko\n",
      "2 1998-01-06  0  23.2502  23.5149  23.2044  23.3808  7.462927e+06     ko\n",
      "3 1998-01-07  0  23.2255  23.3596  22.9855  23.3385  7.102218e+06     ko\n",
      "4 1998-01-08  0  23.2255  23.6455  23.2044  23.5361  8.561481e+06     ko\n"
     ]
    }
   ],
   "source": [
    "files = glob.glob(\"/home/home/vbox_shared/projects/Momentum-Trading/daily/*.csv\")\n",
    "df = pd.concat([pd.read_csv(fp,names=['date','0','open','high','low','close','volume'])\n",
    "                .assign(ticker=os.path.basename(fp).replace('_','.').split('.')[1]) for fp in files])\n",
    "df['date'] = pd.to_datetime(df['date'],format='%Y%m%d')\n",
    "print (df.head())\n"
   ]
  },
  {
   "cell_type": "markdown",
   "metadata": {},
   "source": [
    "### Pivot to closing prices"
   ]
  },
  {
   "cell_type": "code",
   "execution_count": 3,
   "metadata": {},
   "outputs": [],
   "source": [
    "close = df.pivot(index='date', columns='ticker', values='close')"
   ]
  },
  {
   "cell_type": "code",
   "execution_count": 42,
   "metadata": {},
   "outputs": [
    {
     "data": {
      "text/html": [
       "<div>\n",
       "<style scoped>\n",
       "    .dataframe tbody tr th:only-of-type {\n",
       "        vertical-align: middle;\n",
       "    }\n",
       "\n",
       "    .dataframe tbody tr th {\n",
       "        vertical-align: top;\n",
       "    }\n",
       "\n",
       "    .dataframe thead th {\n",
       "        text-align: right;\n",
       "    }\n",
       "</style>\n",
       "<table border=\"1\" class=\"dataframe\">\n",
       "  <thead>\n",
       "    <tr style=\"text-align: right;\">\n",
       "      <th>ticker</th>\n",
       "      <th>a</th>\n",
       "      <th>aa</th>\n",
       "      <th>aapl</th>\n",
       "      <th>abbv</th>\n",
       "      <th>abc</th>\n",
       "      <th>abt</th>\n",
       "      <th>ace</th>\n",
       "      <th>acn</th>\n",
       "      <th>act</th>\n",
       "      <th>adbe</th>\n",
       "    </tr>\n",
       "    <tr>\n",
       "      <th>date</th>\n",
       "      <th></th>\n",
       "      <th></th>\n",
       "      <th></th>\n",
       "      <th></th>\n",
       "      <th></th>\n",
       "      <th></th>\n",
       "      <th></th>\n",
       "      <th></th>\n",
       "      <th></th>\n",
       "      <th></th>\n",
       "    </tr>\n",
       "  </thead>\n",
       "  <tbody>\n",
       "    <tr>\n",
       "      <th>1998-01-02</th>\n",
       "      <td>NaN</td>\n",
       "      <td>13.3511</td>\n",
       "      <td>3.95098</td>\n",
       "      <td>NaN</td>\n",
       "      <td>6.50799</td>\n",
       "      <td>10.3555</td>\n",
       "      <td>22.9865</td>\n",
       "      <td>NaN</td>\n",
       "      <td>32.06</td>\n",
       "      <td>4.99041</td>\n",
       "    </tr>\n",
       "    <tr>\n",
       "      <th>1998-01-05</th>\n",
       "      <td>NaN</td>\n",
       "      <td>13.5853</td>\n",
       "      <td>3.89020</td>\n",
       "      <td>NaN</td>\n",
       "      <td>6.40419</td>\n",
       "      <td>10.4031</td>\n",
       "      <td>22.8365</td>\n",
       "      <td>NaN</td>\n",
       "      <td>33.63</td>\n",
       "      <td>5.05201</td>\n",
       "    </tr>\n",
       "    <tr>\n",
       "      <th>1998-01-06</th>\n",
       "      <td>NaN</td>\n",
       "      <td>13.2817</td>\n",
       "      <td>4.60502</td>\n",
       "      <td>NaN</td>\n",
       "      <td>6.28477</td>\n",
       "      <td>10.2311</td>\n",
       "      <td>23.0180</td>\n",
       "      <td>NaN</td>\n",
       "      <td>33.44</td>\n",
       "      <td>5.23685</td>\n",
       "    </tr>\n",
       "    <tr>\n",
       "      <th>1998-01-07</th>\n",
       "      <td>NaN</td>\n",
       "      <td>13.3042</td>\n",
       "      <td>4.24032</td>\n",
       "      <td>NaN</td>\n",
       "      <td>6.34839</td>\n",
       "      <td>10.2880</td>\n",
       "      <td>23.1389</td>\n",
       "      <td>NaN</td>\n",
       "      <td>32.69</td>\n",
       "      <td>5.15182</td>\n",
       "    </tr>\n",
       "    <tr>\n",
       "      <th>1998-01-08</th>\n",
       "      <td>NaN</td>\n",
       "      <td>12.7533</td>\n",
       "      <td>4.39107</td>\n",
       "      <td>NaN</td>\n",
       "      <td>6.38299</td>\n",
       "      <td>10.4507</td>\n",
       "      <td>22.7446</td>\n",
       "      <td>NaN</td>\n",
       "      <td>33.38</td>\n",
       "      <td>5.20604</td>\n",
       "    </tr>\n",
       "  </tbody>\n",
       "</table>\n",
       "</div>"
      ],
      "text/plain": [
       "ticker       a       aa     aapl  abbv      abc      abt      ace  acn    act  \\\n",
       "date                                                                            \n",
       "1998-01-02 NaN  13.3511  3.95098   NaN  6.50799  10.3555  22.9865  NaN  32.06   \n",
       "1998-01-05 NaN  13.5853  3.89020   NaN  6.40419  10.4031  22.8365  NaN  33.63   \n",
       "1998-01-06 NaN  13.2817  4.60502   NaN  6.28477  10.2311  23.0180  NaN  33.44   \n",
       "1998-01-07 NaN  13.3042  4.24032   NaN  6.34839  10.2880  23.1389  NaN  32.69   \n",
       "1998-01-08 NaN  12.7533  4.39107   NaN  6.38299  10.4507  22.7446  NaN  33.38   \n",
       "\n",
       "ticker         adbe  \n",
       "date                 \n",
       "1998-01-02  4.99041  \n",
       "1998-01-05  5.05201  \n",
       "1998-01-06  5.23685  \n",
       "1998-01-07  5.15182  \n",
       "1998-01-08  5.20604  "
      ]
     },
     "execution_count": 42,
     "metadata": {},
     "output_type": "execute_result"
    }
   ],
   "source": [
    "close.iloc[:,:10].head()"
   ]
  },
  {
   "cell_type": "markdown",
   "metadata": {},
   "source": [
    "### Check data for survivor bias"
   ]
  },
  {
   "cell_type": "code",
   "execution_count": 20,
   "metadata": {},
   "outputs": [],
   "source": [
    "a =close.isnull().sum()\n",
    "a = a[a>0]"
   ]
  },
  {
   "cell_type": "code",
   "execution_count": 21,
   "metadata": {},
   "outputs": [
    {
     "name": "stdout",
     "output_type": "stream",
     "text": [
      "cvh\n",
      "hnz\n",
      "pcs\n"
     ]
    }
   ],
   "source": [
    "for i in a.index:\n",
    "    if close[i].tail(20).isnull().sum() >0:\n",
    "        print(i)\n"
   ]
  },
  {
   "cell_type": "code",
   "execution_count": 7,
   "metadata": {},
   "outputs": [
    {
     "name": "stdout",
     "output_type": "stream",
     "text": [
      "date\n",
      "2013-05-02    49.81\n",
      "2013-05-03    50.19\n",
      "2013-05-06    50.11\n",
      "2013-05-07      NaN\n",
      "2013-05-08      NaN\n",
      "              ...  \n",
      "2013-08-05      NaN\n",
      "2013-08-06      NaN\n",
      "2013-08-07      NaN\n",
      "2013-08-08      NaN\n",
      "2013-08-09      NaN\n",
      "Name: cvh, Length: 70, dtype: float64\n"
     ]
    }
   ],
   "source": [
    "print(close['cvh'].tail(70))"
   ]
  },
  {
   "cell_type": "markdown",
   "metadata": {},
   "source": [
    "Includes ticker with NaN values at tail. All is well."
   ]
  },
  {
   "cell_type": "markdown",
   "metadata": {},
   "source": [
    "### For each month-end observation period, rank the stocks by previous returns, from the highest to the lowest"
   ]
  },
  {
   "cell_type": "code",
   "execution_count": 8,
   "metadata": {},
   "outputs": [],
   "source": [
    "monthly = close.resample('M').last()\n",
    "returns = np.log(monthly) - np.log(monthly.shift(1))\n",
    "prev_returns = returns.shift(1)\n",
    "lookahead_returns = returns.shift(-1)"
   ]
  },
  {
   "cell_type": "code",
   "execution_count": 9,
   "metadata": {},
   "outputs": [],
   "source": [
    "# rank the stocks by prev returns from highest to lowest\n",
    "def rank_(prev_returns, n):\n",
    "    top_prices = pd.DataFrame(0, index=prev_returns.index, columns=prev_returns.columns)\n",
    "    for index, col in prev_returns.iterrows():\n",
    "        top_prices.loc[index, col.nlargest(n).index] = 1\n",
    "    return top_prices\n"
   ]
  },
  {
   "cell_type": "markdown",
   "metadata": {},
   "source": [
    "### Select the top performing stocks for the long position, and the bottom performing stocks for the short position"
   ]
  },
  {
   "cell_type": "code",
   "execution_count": 10,
   "metadata": {},
   "outputs": [],
   "source": [
    "# select top for long, bottom for short\n",
    "long = rank_(prev_returns, 10)\n",
    "short = rank_(-1 * prev_returns, 10) \n"
   ]
  },
  {
   "cell_type": "code",
   "execution_count": 45,
   "metadata": {},
   "outputs": [
    {
     "data": {
      "text/html": [
       "<div>\n",
       "<style scoped>\n",
       "    .dataframe tbody tr th:only-of-type {\n",
       "        vertical-align: middle;\n",
       "    }\n",
       "\n",
       "    .dataframe tbody tr th {\n",
       "        vertical-align: top;\n",
       "    }\n",
       "\n",
       "    .dataframe thead th {\n",
       "        text-align: right;\n",
       "    }\n",
       "</style>\n",
       "<table border=\"1\" class=\"dataframe\">\n",
       "  <thead>\n",
       "    <tr style=\"text-align: right;\">\n",
       "      <th>ticker</th>\n",
       "      <th>a</th>\n",
       "      <th>aa</th>\n",
       "      <th>aapl</th>\n",
       "      <th>abbv</th>\n",
       "      <th>abc</th>\n",
       "      <th>abt</th>\n",
       "      <th>ace</th>\n",
       "      <th>acn</th>\n",
       "      <th>act</th>\n",
       "      <th>adbe</th>\n",
       "    </tr>\n",
       "    <tr>\n",
       "      <th>date</th>\n",
       "      <th></th>\n",
       "      <th></th>\n",
       "      <th></th>\n",
       "      <th></th>\n",
       "      <th></th>\n",
       "      <th></th>\n",
       "      <th></th>\n",
       "      <th></th>\n",
       "      <th></th>\n",
       "      <th></th>\n",
       "    </tr>\n",
       "  </thead>\n",
       "  <tbody>\n",
       "    <tr>\n",
       "      <th>1998-01-31</th>\n",
       "      <td>NaN</td>\n",
       "      <td>0.0</td>\n",
       "      <td>0.000000</td>\n",
       "      <td>NaN</td>\n",
       "      <td>0.0</td>\n",
       "      <td>0.0</td>\n",
       "      <td>0.0</td>\n",
       "      <td>NaN</td>\n",
       "      <td>0.0</td>\n",
       "      <td>0.0</td>\n",
       "    </tr>\n",
       "    <tr>\n",
       "      <th>1998-02-28</th>\n",
       "      <td>NaN</td>\n",
       "      <td>0.0</td>\n",
       "      <td>0.000000</td>\n",
       "      <td>NaN</td>\n",
       "      <td>0.0</td>\n",
       "      <td>0.0</td>\n",
       "      <td>0.0</td>\n",
       "      <td>NaN</td>\n",
       "      <td>0.0</td>\n",
       "      <td>0.0</td>\n",
       "    </tr>\n",
       "    <tr>\n",
       "      <th>1998-03-31</th>\n",
       "      <td>NaN</td>\n",
       "      <td>0.0</td>\n",
       "      <td>-0.000456</td>\n",
       "      <td>NaN</td>\n",
       "      <td>0.0</td>\n",
       "      <td>0.0</td>\n",
       "      <td>0.0</td>\n",
       "      <td>NaN</td>\n",
       "      <td>0.0</td>\n",
       "      <td>0.0</td>\n",
       "    </tr>\n",
       "    <tr>\n",
       "      <th>1998-04-30</th>\n",
       "      <td>NaN</td>\n",
       "      <td>0.0</td>\n",
       "      <td>0.000000</td>\n",
       "      <td>NaN</td>\n",
       "      <td>0.0</td>\n",
       "      <td>0.0</td>\n",
       "      <td>0.0</td>\n",
       "      <td>NaN</td>\n",
       "      <td>0.0</td>\n",
       "      <td>0.0</td>\n",
       "    </tr>\n",
       "    <tr>\n",
       "      <th>1998-05-31</th>\n",
       "      <td>NaN</td>\n",
       "      <td>0.0</td>\n",
       "      <td>0.000000</td>\n",
       "      <td>NaN</td>\n",
       "      <td>0.0</td>\n",
       "      <td>0.0</td>\n",
       "      <td>0.0</td>\n",
       "      <td>NaN</td>\n",
       "      <td>0.0</td>\n",
       "      <td>0.0</td>\n",
       "    </tr>\n",
       "  </tbody>\n",
       "</table>\n",
       "</div>"
      ],
      "text/plain": [
       "ticker       a   aa      aapl  abbv  abc  abt  ace  acn  act  adbe\n",
       "date                                                              \n",
       "1998-01-31 NaN  0.0  0.000000   NaN  0.0  0.0  0.0  NaN  0.0   0.0\n",
       "1998-02-28 NaN  0.0  0.000000   NaN  0.0  0.0  0.0  NaN  0.0   0.0\n",
       "1998-03-31 NaN  0.0 -0.000456   NaN  0.0  0.0  0.0  NaN  0.0   0.0\n",
       "1998-04-30 NaN  0.0  0.000000   NaN  0.0  0.0  0.0  NaN  0.0   0.0\n",
       "1998-05-31 NaN  0.0  0.000000   NaN  0.0  0.0  0.0  NaN  0.0   0.0"
      ]
     },
     "execution_count": 45,
     "metadata": {},
     "output_type": "execute_result"
    }
   ],
   "source": [
    "# calculate expected portfolio returns\n",
    "port_ret = (long * lookahead_returns - short * lookahead_returns)/(10+10)\n",
    "port_ret.iloc[:,:10].head()"
   ]
  },
  {
   "cell_type": "code",
   "execution_count": 32,
   "metadata": {},
   "outputs": [
    {
     "data": {
      "text/plain": [
       "79"
      ]
     },
     "execution_count": 32,
     "metadata": {},
     "output_type": "execute_result"
    }
   ],
   "source": [
    "(port_ret.T.sum() <0).astype(int).sum()"
   ]
  },
  {
   "cell_type": "markdown",
   "metadata": {},
   "source": [
    "## statistical tests"
   ]
  },
  {
   "cell_type": "code",
   "execution_count": 12,
   "metadata": {},
   "outputs": [],
   "source": [
    "def t_test(returns):\n",
    "    t_value = stats.ttest_1samp(returns,0.0)[0]\n",
    "    p_value = stats.ttest_1samp(returns,0.0)[1]/2\n",
    "    if p_value < 0.05:\n",
    "        result = \"Strategy might work. proceed further\"\n",
    "    else:\n",
    "        result = \"rethink strategy. There doesn't seem to be an alpha factor involved\"\n",
    "    return t_value, p_value, result\n"
   ]
  },
  {
   "cell_type": "code",
   "execution_count": 13,
   "metadata": {},
   "outputs": [
    {
     "data": {
      "text/plain": [
       "0.0060848424554046255"
      ]
     },
     "execution_count": 13,
     "metadata": {},
     "output_type": "execute_result"
    }
   ],
   "source": [
    "port_ret.T.sum().mean()"
   ]
  },
  {
   "cell_type": "code",
   "execution_count": 14,
   "metadata": {},
   "outputs": [
    {
     "data": {
      "text/plain": [
       "7.575001799545111"
      ]
     },
     "execution_count": 14,
     "metadata": {},
     "output_type": "execute_result"
    }
   ],
   "source": [
    "(np.exp(port_ret.T.sum().mean() * 12 ) -1 ) * 100"
   ]
  },
  {
   "cell_type": "code",
   "execution_count": 15,
   "metadata": {},
   "outputs": [],
   "source": [
    "t, p , result= t_test(port_ret.T.sum())"
   ]
  },
  {
   "cell_type": "code",
   "execution_count": 16,
   "metadata": {},
   "outputs": [
    {
     "name": "stdout",
     "output_type": "stream",
     "text": [
      "t-value:  1.5072186565119008 \n",
      "p-value:  0.06672104990276045 \n",
      "conclusion:  rethink strategy. There doesn't seem to be an alpha factor involved\n"
     ]
    }
   ],
   "source": [
    "print('t-value: ',t,'\\np-value: ',p,'\\nconclusion: ',result)"
   ]
  },
  {
   "cell_type": "code",
   "execution_count": null,
   "metadata": {},
   "outputs": [],
   "source": []
  }
 ],
 "metadata": {
  "kernelspec": {
   "display_name": "momentumtrading",
   "language": "python",
   "name": "momentumtrading"
  },
  "language_info": {
   "codemirror_mode": {
    "name": "ipython",
    "version": 3
   },
   "file_extension": ".py",
   "mimetype": "text/x-python",
   "name": "python",
   "nbconvert_exporter": "python",
   "pygments_lexer": "ipython3",
   "version": "3.6.10"
  }
 },
 "nbformat": 4,
 "nbformat_minor": 2
}
